{
  "nbformat": 4,
  "nbformat_minor": 0,
  "metadata": {
    "colab": {
      "name": "SVM_CANCER.ipynb",
      "provenance": [],
      "authorship_tag": "ABX9TyOpUcSF1FsFW5zUiG31Kli7",
      "include_colab_link": true
    },
    "kernelspec": {
      "display_name": "Python 3",
      "name": "python3"
    }
  },
  "cells": [
    {
      "cell_type": "markdown",
      "metadata": {
        "id": "view-in-github",
        "colab_type": "text"
      },
      "source": [
        "<a href=\"https://colab.research.google.com/github/pawan070bct27/Computer-vision/blob/master/SVM_CANCER.ipynb\" target=\"_parent\"><img src=\"https://colab.research.google.com/assets/colab-badge.svg\" alt=\"Open In Colab\"/></a>"
      ]
    },
    {
      "cell_type": "code",
      "metadata": {
        "id": "DQ985FSKKZjD"
      },
      "source": [
        "import numpy as np"
      ],
      "execution_count": null,
      "outputs": []
    },
    {
      "cell_type": "code",
      "metadata": {
        "id": "VWjA9CZjKoYk"
      },
      "source": [
        "label_xy = np.load('train_label_xy.npy')"
      ],
      "execution_count": null,
      "outputs": []
    },
    {
      "cell_type": "code",
      "metadata": {
        "id": "JUvioE4jK8NN"
      },
      "source": [
        "data_xy = np.load('train_xy.npy')"
      ],
      "execution_count": null,
      "outputs": []
    },
    {
      "cell_type": "code",
      "metadata": {
        "colab": {
          "base_uri": "https://localhost:8080/"
        },
        "id": "ZiUbqBLULXAe",
        "outputId": "87c1c623-73c8-459e-dcd7-2b3ca8ec14ed"
      },
      "source": [
        "from sklearn.decomposition import PCA\n",
        "\n",
        "pca = PCA()\n",
        "X_pca = pca.fit_transform(data_xy)\n",
        "pca.explained_variance_ratio_"
      ],
      "execution_count": null,
      "outputs": [
        {
          "output_type": "execute_result",
          "data": {
            "text/plain": [
              "array([3.57339124e-01, 1.42144324e-01, 1.28344032e-01, ...,\n",
              "       2.14172089e-18, 7.75055074e-19, 7.04727162e-32])"
            ]
          },
          "metadata": {
            "tags": []
          },
          "execution_count": 4
        }
      ]
    },
    {
      "cell_type": "code",
      "metadata": {
        "colab": {
          "base_uri": "https://localhost:8080/",
          "height": 283
        },
        "id": "bs_vFkYBLP7e",
        "outputId": "aa8992c7-5235-411a-9c2c-10a1ac88d662"
      },
      "source": [
        "import matplotlib.pyplot as plt\n",
        "plt.bar(range(1, 51), pca.explained_variance_ratio_[:50], alpha=0.5, align='center')\n",
        "plt.step(range(1, 51), np.cumsum(pca.explained_variance_ratio_)[:50], where='mid')\n",
        "plt.ylabel('Explained variance ratio')\n",
        "plt.xlabel('Principal components')\n",
        "plt.show()"
      ],
      "execution_count": null,
      "outputs": [
        {
          "output_type": "display_data",
          "data": {
            "image/png": "[encoded data removed]",
            "text/plain": [
              "<Figure size 432x288 with 1 Axes>"
            ]
          },
          "metadata": {
            "tags": []
          }
        }
      ]
    },
    {
      "cell_type": "code",
      "metadata": {
        "colab": {
          "base_uri": "https://localhost:8080/"
        },
        "id": "_jawPrDFLa5e",
        "outputId": "55127d57-b52f-4773-dcf5-8dd34da0bc43"
      },
      "source": [
        "X_pca_new = X_pca[:,:6]\n",
        "X_pca_new.shape"
      ],
      "execution_count": null,
      "outputs": [
        {
          "output_type": "execute_result",
          "data": {
            "text/plain": [
              "(1002, 6)"
            ]
          },
          "metadata": {
            "tags": []
          },
          "execution_count": 6
        }
      ]
    },
    {
      "cell_type": "code",
      "metadata": {
        "id": "NCle073vLgmK"
      },
      "source": [
        "X_pca_new = X_pca_new.reshape(167,6,6)\n",
        "label_xy = label_xy.reshape(167,6,)"
      ],
      "execution_count": null,
      "outputs": []
    },
    {
      "cell_type": "code",
      "metadata": {
        "id": "Wa6EsWnBLJPQ"
      },
      "source": [
        "from sklearn.model_selection import train_test_split\n",
        "\n",
        "# Split dataset into training set and test set\n",
        "X_train, X_test, y_train, y_test = train_test_split(X_pca_new, label_xy, test_size=0.3,random_state=109) # 70% training and 30% test\n"
      ],
      "execution_count": null,
      "outputs": []
    },
    {
      "cell_type": "code",
      "metadata": {
        "id": "AmlV1TkZLnA7"
      },
      "source": [
        "X_train = X_train.reshape(X_train.shape[0]*6, 6)\n",
        "y_train = y_train.reshape(y_train.shape[0]*6,)\n",
        "\n",
        "X_test = X_test.reshape(X_test.shape[0]*6, 6)\n",
        "y_test = y_test.reshape(y_test.shape[0]*6,)"
      ],
      "execution_count": null,
      "outputs": []
    },
    {
      "cell_type": "code",
      "metadata": {
        "id": "fK55Y0cKLyhq"
      },
      "source": [
        "from sklearn import svm\n",
        "\n",
        "#Create a svm Classifier\n",
        "clf = svm.SVC(kernel='linear') # Linear Kernel\n",
        "\n",
        "#Train the model using the training sets\n",
        "clf.fit(X_train, y_train)\n",
        "\n",
        "#Predict the response for test dataset\n",
        "y_pred = clf.predict(X_test)"
      ],
      "execution_count": null,
      "outputs": []
    },
    {
      "cell_type": "code",
      "metadata": {
        "colab": {
          "base_uri": "https://localhost:8080/"
        },
        "id": "3B_rqY3qMeqd",
        "outputId": "e02f255b-24e9-4ad5-ccae-66993af56007"
      },
      "source": [
        "from sklearn import metrics\n",
        "\n",
        "# Model Accuracy: how often is the classifier correct?\n",
        "print(\"Accuracy:\",metrics.accuracy_score(y_test, y_pred))\n"
      ],
      "execution_count": null,
      "outputs": [
        {
          "output_type": "stream",
          "text": [
            "Accuracy: 0.6339869281045751\n"
          ],
          "name": "stdout"
        }
      ]
    },
    {
      "cell_type": "code",
      "metadata": {
        "colab": {
          "base_uri": "https://localhost:8080/",
          "height": 295
        },
        "id": "1_FC0MasMjLD",
        "outputId": "f6c1eb2d-4a15-4ecd-e52d-04602923a224"
      },
      "source": [
        "import matplotlib.pyplot as plt\n",
        "\n",
        "# predict probabilities for X_test using predict_proba\n",
        "probabilities = clf.predict(X_test)\n",
        "\n",
        "# select the probabilities for label 1.0\n",
        "y_proba = probabilities\n",
        "\n",
        "# calculate false positive rate and true positive rate at different thresholds\n",
        "false_positive_rate, true_positive_rate, thresholds = metrics.roc_curve(y_test, y_proba, pos_label=1)\n",
        "\n",
        "# calculate AUC\n",
        "roc_auc = metrics.auc(false_positive_rate, true_positive_rate)\n",
        "\n",
        "plt.title('Receiver Operating Characteristic')\n",
        "# plot the false positive rate on the x axis and the true positive rate on the y axis\n",
        "roc_plot = plt.plot(false_positive_rate,\n",
        "                    true_positive_rate,\n",
        "                    label='AUC = {:0.2f}'.format(roc_auc))\n",
        "\n",
        "plt.legend(loc=0)\n",
        "plt.plot([0,1], [0,1], ls='--')\n",
        "plt.ylabel('True Positive Rate')\n",
        "plt.xlabel('False Positive Rate');"
      ],
      "execution_count": null,
      "outputs": [
        {
          "output_type": "display_data",
          "data": {
            "image/png": "[encoded data removed]",
            "text/plain": [
              "<Figure size 432x288 with 1 Axes>"
            ]
          },
          "metadata": {
            "tags": []
          }
        }
      ]
    },
    {
      "cell_type": "code",
      "metadata": {
        "id": "hAAu-4g9JBmK"
      },
      "source": [
        ""
      ],
      "execution_count": null,
      "outputs": []
    }
  ]
}